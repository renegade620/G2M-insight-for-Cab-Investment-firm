{
  "nbformat": 4,
  "nbformat_minor": 0,
  "metadata": {
    "colab": {
      "provenance": [],
      "authorship_tag": "ABX9TyP+EORmka5vUZ9f78NGlHjO",
      "include_colab_link": true
    },
    "kernelspec": {
      "name": "python3",
      "display_name": "Python 3"
    },
    "language_info": {
      "name": "python"
    }
  },
  "cells": [
    {
      "cell_type": "markdown",
      "metadata": {
        "id": "view-in-github",
        "colab_type": "text"
      },
      "source": [
        "<a href=\"https://colab.research.google.com/github/renegade620/G2M-insight-for-Cab-Investment-firm/blob/main/eda.ipynb\" target=\"_parent\"><img src=\"https://colab.research.google.com/assets/colab-badge.svg\" alt=\"Open In Colab\"/></a>"
      ]
    },
    {
      "cell_type": "markdown",
      "source": [
        "# **G2M insight for Cab Investment firm (EDA Analysis)**\n",
        "\n",
        "\n",
        "## **Introduction**\n",
        "\n",
        "XYZ is a private firm in US. Due to remarkable growth in the Cab Industry in last few years and multiple key players in the market, it is planning for an investment in Cab industry and as per their Go-to-Market(G2M) strategy they want to understand the market before taking final decision."
      ],
      "metadata": {
        "id": "yU98TNQwQwac"
      }
    },
    {
      "cell_type": "code",
      "execution_count": 2,
      "metadata": {
        "id": "xWBRcUvwochg"
      },
      "outputs": [],
      "source": [
        "import pandas as pd\n",
        "import numpy as np\n",
        "import matplotlib.pyplot as plt\n",
        "import seaborn as sns"
      ]
    },
    {
      "cell_type": "markdown",
      "source": [
        "## **Data Exploration**"
      ],
      "metadata": {
        "id": "PbeQoyJhUMA9"
      }
    },
    {
      "cell_type": "markdown",
      "source": [
        "### **Cab Data**"
      ],
      "metadata": {
        "id": "zWyWD6v6VK_x"
      }
    },
    {
      "cell_type": "code",
      "source": [
        "cab_data = pd.read_csv('https://github.com/renegade620/G2M-insight-for-Cab-Investment-firm/raw/main/Datasets/Cab_Data.csv')\n",
        "print(cab_data.head(), \"\\n\")\n",
        "print(cab_data.info(), \"\\n\")\n",
        "print(cab_data.shape, \"\\n\")\n",
        "print(cab_data.describe(), \"\\n\")\n",
        "print(cab_data.isnull().sum(), \"\\n\")\n",
        "print(cab_data.duplicated().sum())\n"
      ],
      "metadata": {
        "colab": {
          "base_uri": "https://localhost:8080/"
        },
        "id": "9svYFJQJVVW6",
        "outputId": "c0d106a5-a0a6-4c10-bf17-c90e37f02a32"
      },
      "execution_count": 41,
      "outputs": [
        {
          "output_type": "stream",
          "name": "stdout",
          "text": [
            "   Transaction ID  Date of Travel   Company        City  KM Travelled  \\\n",
            "0        10000011           42377  Pink Cab  ATLANTA GA         30.45   \n",
            "1        10000012           42375  Pink Cab  ATLANTA GA         28.62   \n",
            "2        10000013           42371  Pink Cab  ATLANTA GA          9.04   \n",
            "3        10000014           42376  Pink Cab  ATLANTA GA         33.17   \n",
            "4        10000015           42372  Pink Cab  ATLANTA GA          8.73   \n",
            "\n",
            "   Price Charged  Cost of Trip  \n",
            "0         370.95       313.635  \n",
            "1         358.52       334.854  \n",
            "2         125.20        97.632  \n",
            "3         377.40       351.602  \n",
            "4         114.62        97.776   \n",
            "\n",
            "<class 'pandas.core.frame.DataFrame'>\n",
            "RangeIndex: 359392 entries, 0 to 359391\n",
            "Data columns (total 7 columns):\n",
            " #   Column          Non-Null Count   Dtype  \n",
            "---  ------          --------------   -----  \n",
            " 0   Transaction ID  359392 non-null  int64  \n",
            " 1   Date of Travel  359392 non-null  int64  \n",
            " 2   Company         359392 non-null  object \n",
            " 3   City            359392 non-null  object \n",
            " 4   KM Travelled    359392 non-null  float64\n",
            " 5   Price Charged   359392 non-null  float64\n",
            " 6   Cost of Trip    359392 non-null  float64\n",
            "dtypes: float64(3), int64(2), object(2)\n",
            "memory usage: 19.2+ MB\n",
            "None \n",
            "\n",
            "(359392, 7) \n",
            "\n",
            "       Transaction ID  Date of Travel   KM Travelled  Price Charged  \\\n",
            "count    3.593920e+05   359392.000000  359392.000000  359392.000000   \n",
            "mean     1.022076e+07    42964.067998      22.567254     423.443311   \n",
            "std      1.268058e+05      307.467197      12.233526     274.378911   \n",
            "min      1.000001e+07    42371.000000       1.900000      15.600000   \n",
            "25%      1.011081e+07    42697.000000      12.000000     206.437500   \n",
            "50%      1.022104e+07    42988.000000      22.440000     386.360000   \n",
            "75%      1.033094e+07    43232.000000      32.960000     583.660000   \n",
            "max      1.044011e+07    43465.000000      48.000000    2048.030000   \n",
            "\n",
            "        Cost of Trip  \n",
            "count  359392.000000  \n",
            "mean      286.190113  \n",
            "std       157.993661  \n",
            "min        19.000000  \n",
            "25%       151.200000  \n",
            "50%       282.480000  \n",
            "75%       413.683200  \n",
            "max       691.200000   \n",
            "\n",
            "Transaction ID    0\n",
            "Date of Travel    0\n",
            "Company           0\n",
            "City              0\n",
            "KM Travelled      0\n",
            "Price Charged     0\n",
            "Cost of Trip      0\n",
            "dtype: int64 \n",
            "\n",
            "0\n"
          ]
        }
      ]
    },
    {
      "cell_type": "markdown",
      "source": [
        "### **Customer Data**"
      ],
      "metadata": {
        "id": "peGxeU6XXjkd"
      }
    },
    {
      "cell_type": "code",
      "source": [
        "customer_data = pd.read_csv('https://github.com/renegade620/G2M-insight-for-Cab-Investment-firm/raw/main/Datasets/Customer_ID.csv')\n",
        "print(customer_data.head(),\"\\n\")\n",
        "print(customer_data.info(), \"\\n\")\n",
        "print(customer_data.shape, \"\\n\")\n",
        "print(customer_data.describe(), \"\\n\")\n",
        "print(customer_data.isnull().sum(), \"\\n\")\n",
        "print(customer_data.duplicated().sum())\n"
      ],
      "metadata": {
        "colab": {
          "base_uri": "https://localhost:8080/"
        },
        "id": "T66OpscPXu9B",
        "outputId": "1fe69561-feb7-4383-ea78-2d28a01635e3"
      },
      "execution_count": 42,
      "outputs": [
        {
          "output_type": "stream",
          "name": "stdout",
          "text": [
            "   Customer ID Gender  Age  Income (USD/Month)\n",
            "0        29290   Male   28               10813\n",
            "1        27703   Male   27                9237\n",
            "2        28712   Male   53               11242\n",
            "3        28020   Male   23               23327\n",
            "4        27182   Male   33                8536 \n",
            "\n",
            "<class 'pandas.core.frame.DataFrame'>\n",
            "RangeIndex: 49171 entries, 0 to 49170\n",
            "Data columns (total 4 columns):\n",
            " #   Column              Non-Null Count  Dtype \n",
            "---  ------              --------------  ----- \n",
            " 0   Customer ID         49171 non-null  int64 \n",
            " 1   Gender              49171 non-null  object\n",
            " 2   Age                 49171 non-null  int64 \n",
            " 3   Income (USD/Month)  49171 non-null  int64 \n",
            "dtypes: int64(3), object(1)\n",
            "memory usage: 1.5+ MB\n",
            "None \n",
            "\n",
            "(49171, 4) \n",
            "\n",
            "        Customer ID           Age  Income (USD/Month)\n",
            "count  49171.000000  49171.000000        49171.000000\n",
            "mean   28398.252283     35.363121        15015.631856\n",
            "std    17714.137333     12.599066         8002.208253\n",
            "min        1.000000     18.000000         2000.000000\n",
            "25%    12654.500000     25.000000         8289.500000\n",
            "50%    27631.000000     33.000000        14656.000000\n",
            "75%    43284.500000     42.000000        21035.000000\n",
            "max    60000.000000     65.000000        35000.000000 \n",
            "\n",
            "Customer ID           0\n",
            "Gender                0\n",
            "Age                   0\n",
            "Income (USD/Month)    0\n",
            "dtype: int64 \n",
            "\n",
            "0\n"
          ]
        }
      ]
    },
    {
      "cell_type": "markdown",
      "source": [
        "### **Transaction Data**"
      ],
      "metadata": {
        "id": "pq2aASVNYEJA"
      }
    },
    {
      "cell_type": "code",
      "source": [
        "transaction_data = pd.read_csv('https://github.com/renegade620/G2M-insight-for-Cab-Investment-firm/raw/main/Datasets/Transaction_ID.csv')\n",
        "print(transaction_data.head(),\"\\n\")\n",
        "print(transaction_data.info(), \"\\n\")\n",
        "print(transaction_data.shape, \"\\n\")\n",
        "print(transaction_data.isnull().sum(), \"\\n\")\n",
        "print(transaction_data.duplicated().sum())\n"
      ],
      "metadata": {
        "colab": {
          "base_uri": "https://localhost:8080/"
        },
        "id": "WYNjETHdYT7Y",
        "outputId": "fc5788fc-0b36-4f75-bd2d-cd1af5611f78"
      },
      "execution_count": 43,
      "outputs": [
        {
          "output_type": "stream",
          "name": "stdout",
          "text": [
            "   Transaction ID  Customer ID Payment_Mode\n",
            "0        10000011        29290         Card\n",
            "1        10000012        27703         Card\n",
            "2        10000013        28712         Cash\n",
            "3        10000014        28020         Cash\n",
            "4        10000015        27182         Card \n",
            "\n",
            "<class 'pandas.core.frame.DataFrame'>\n",
            "RangeIndex: 440098 entries, 0 to 440097\n",
            "Data columns (total 3 columns):\n",
            " #   Column          Non-Null Count   Dtype \n",
            "---  ------          --------------   ----- \n",
            " 0   Transaction ID  440098 non-null  int64 \n",
            " 1   Customer ID     440098 non-null  int64 \n",
            " 2   Payment_Mode    440098 non-null  object\n",
            "dtypes: int64(2), object(1)\n",
            "memory usage: 10.1+ MB\n",
            "None \n",
            "\n",
            "(440098, 3) \n",
            "\n",
            "Transaction ID    0\n",
            "Customer ID       0\n",
            "Payment_Mode      0\n",
            "dtype: int64 \n",
            "\n",
            "0\n"
          ]
        }
      ]
    },
    {
      "cell_type": "markdown",
      "source": [
        "### **City Data**"
      ],
      "metadata": {
        "id": "WDO-TbYqYkA-"
      }
    },
    {
      "cell_type": "code",
      "source": [
        "city_data = pd.read_csv('https://github.com/renegade620/G2M-insight-for-Cab-Investment-firm/raw/main/Datasets/City.csv')\n",
        "print(city_data.head(),\"\\n\")\n",
        "print(city_data.info(), \"\\n\")\n",
        "print(city_data.shape, \"\\n\")\n",
        "print(city_data.isnull().sum(), \"\\n\")\n",
        "print(city_data.duplicated().sum())\n",
        "\n"
      ],
      "metadata": {
        "colab": {
          "base_uri": "https://localhost:8080/"
        },
        "id": "J5kaHzHypbuf",
        "outputId": "54c343bf-bc97-48eb-a7ef-515b6ade3881"
      },
      "execution_count": 44,
      "outputs": [
        {
          "output_type": "stream",
          "name": "stdout",
          "text": [
            "             City   Population      Users\n",
            "0     NEW YORK NY   8,405,837    302,149 \n",
            "1      CHICAGO IL   1,955,130    164,468 \n",
            "2  LOS ANGELES CA   1,595,037    144,132 \n",
            "3        MIAMI FL   1,339,155     17,675 \n",
            "4  SILICON VALLEY   1,177,609     27,247  \n",
            "\n",
            "<class 'pandas.core.frame.DataFrame'>\n",
            "RangeIndex: 20 entries, 0 to 19\n",
            "Data columns (total 3 columns):\n",
            " #   Column      Non-Null Count  Dtype \n",
            "---  ------      --------------  ----- \n",
            " 0   City        20 non-null     object\n",
            " 1   Population  20 non-null     object\n",
            " 2   Users       20 non-null     object\n",
            "dtypes: object(3)\n",
            "memory usage: 608.0+ bytes\n",
            "None \n",
            "\n",
            "(20, 3) \n",
            "\n",
            "City          0\n",
            "Population    0\n",
            "Users         0\n",
            "dtype: int64 \n",
            "\n",
            "0\n"
          ]
        }
      ]
    },
    {
      "cell_type": "markdown",
      "source": [
        "## **Relationships across the files**"
      ],
      "metadata": {
        "id": "-nIPJYmjgqri"
      }
    },
    {
      "cell_type": "markdown",
      "source": [
        "**Cab data** relates with the **transaction data** through the column *Transaction ID*, and with the **city data** through the column *City*."
      ],
      "metadata": {
        "id": "ussrlIdwg4Ec"
      }
    },
    {
      "cell_type": "code",
      "source": [
        "cab_data.head()"
      ],
      "metadata": {
        "id": "rcFJSxOhgyHc"
      },
      "execution_count": null,
      "outputs": []
    },
    {
      "cell_type": "markdown",
      "source": [
        "\n",
        "**Transaction data** relates with **cab data** through the column *Transaction ID* and with the customer data through the column *Customer ID.*"
      ],
      "metadata": {
        "id": "PhnuETu1ja-q"
      }
    },
    {
      "cell_type": "code",
      "source": [
        "transaction_data.head()\n"
      ],
      "metadata": {
        "id": "CAI41vlbhhy1"
      },
      "execution_count": null,
      "outputs": []
    },
    {
      "cell_type": "markdown",
      "source": [
        "**City data** relates with the **cab data** through the column *City*"
      ],
      "metadata": {
        "id": "rDRy_Uw9jgZz"
      }
    },
    {
      "cell_type": "code",
      "source": [
        "city_data.head()\n"
      ],
      "metadata": {
        "id": "8PNRXAdmhjg7"
      },
      "execution_count": null,
      "outputs": []
    },
    {
      "cell_type": "markdown",
      "source": [
        "The **customer data** relates with the **transaction data** through the column *Customer ID*"
      ],
      "metadata": {
        "id": "EyBdvEstjxOC"
      }
    },
    {
      "cell_type": "code",
      "source": [
        "customer_data.head()"
      ],
      "metadata": {
        "id": "v3ryeMrAhlkb"
      },
      "execution_count": null,
      "outputs": []
    }
  ]
}