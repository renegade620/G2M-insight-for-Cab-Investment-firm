{
  "nbformat": 4,
  "nbformat_minor": 0,
  "metadata": {
    "colab": {
      "provenance": [],
      "authorship_tag": "ABX9TyNshI4mObbMdDiHQoWXQM0W",
      "include_colab_link": true
    },
    "kernelspec": {
      "name": "python3",
      "display_name": "Python 3"
    },
    "language_info": {
      "name": "python"
    }
  },
  "cells": [
    {
      "cell_type": "markdown",
      "metadata": {
        "id": "view-in-github",
        "colab_type": "text"
      },
      "source": [
        "<a href=\"https://colab.research.google.com/github/renegade620/G2M-insight-for-Cab-Investment-firm/blob/main/eda.ipynb\" target=\"_parent\"><img src=\"https://colab.research.google.com/assets/colab-badge.svg\" alt=\"Open In Colab\"/></a>"
      ]
    },
    {
      "cell_type": "markdown",
      "source": [
        "**G2M insight for Cab Investment firm**\n",
        "\n",
        "\n",
        "**Introduction**\n",
        "\n",
        "XYZ is a private firm in US. Due to remarkable growth in the Cab Industry in last few years and multiple key players in the market, it is planning for an investment in Cab industry and as per their Go-to-Market(G2M) strategy they want to understand the market before taking final decision."
      ],
      "metadata": {
        "id": "yU98TNQwQwac"
      }
    },
    {
      "cell_type": "code",
      "execution_count": null,
      "metadata": {
        "id": "xWBRcUvwochg"
      },
      "outputs": [],
      "source": [
        "import pandas as pd\n",
        "import numpy as np\n",
        "import matplotlib.pyplot as plt\n",
        "import seaborn as sns"
      ]
    },
    {
      "cell_type": "code",
      "source": [
        "cab_data = pd.read_csv('https://github.com/renegade620/G2M-insight-for-Cab-Investment-firm/raw/main/Datasets/Cab_Data.csv')\n",
        "customer_data = pd.read_csv('https://github.com/renegade620/G2M-insight-for-Cab-Investment-firm/raw/main/Datasets/Customer_ID.csv')\n",
        "transaction_data = pd.read_csv('https://github.com/renegade620/G2M-insight-for-Cab-Investment-firm/raw/main/Datasets/Transaction_ID.csv')\n",
        "city_data = pd.read_csv('https://github.com/renegade620/G2M-insight-for-Cab-Investment-firm/raw/main/Datasets/City.csv')\n",
        "print(\"Cab Data:\")\n",
        "print(cab_data.info())\n",
        "\n",
        "print(\"\\nCustomer Data:\")\n",
        "print(customer_data.info())\n",
        "\n",
        "print(\"\\nTransaction Data:\")\n",
        "print(transaction_data.info())\n",
        "\n",
        "print(\"\\nCity Data:\")\n",
        "print(city_data.info())\n"
      ],
      "metadata": {
        "colab": {
          "base_uri": "https://localhost:8080/"
        },
        "id": "J5kaHzHypbuf",
        "outputId": "a6dd8282-3bbe-44d0-8b9a-5dd331cedfa6"
      },
      "execution_count": null,
      "outputs": [
        {
          "output_type": "stream",
          "name": "stdout",
          "text": [
            "Cab Data:\n",
            "<class 'pandas.core.frame.DataFrame'>\n",
            "RangeIndex: 359392 entries, 0 to 359391\n",
            "Data columns (total 7 columns):\n",
            " #   Column          Non-Null Count   Dtype  \n",
            "---  ------          --------------   -----  \n",
            " 0   Transaction ID  359392 non-null  int64  \n",
            " 1   Date of Travel  359392 non-null  int64  \n",
            " 2   Company         359392 non-null  object \n",
            " 3   City            359392 non-null  object \n",
            " 4   KM Travelled    359392 non-null  float64\n",
            " 5   Price Charged   359392 non-null  float64\n",
            " 6   Cost of Trip    359392 non-null  float64\n",
            "dtypes: float64(3), int64(2), object(2)\n",
            "memory usage: 19.2+ MB\n",
            "None\n",
            "\n",
            "Customer Data:\n",
            "<class 'pandas.core.frame.DataFrame'>\n",
            "RangeIndex: 49171 entries, 0 to 49170\n",
            "Data columns (total 4 columns):\n",
            " #   Column              Non-Null Count  Dtype \n",
            "---  ------              --------------  ----- \n",
            " 0   Customer ID         49171 non-null  int64 \n",
            " 1   Gender              49171 non-null  object\n",
            " 2   Age                 49171 non-null  int64 \n",
            " 3   Income (USD/Month)  49171 non-null  int64 \n",
            "dtypes: int64(3), object(1)\n",
            "memory usage: 1.5+ MB\n",
            "None\n",
            "\n",
            "Transaction Data:\n",
            "<class 'pandas.core.frame.DataFrame'>\n",
            "RangeIndex: 440098 entries, 0 to 440097\n",
            "Data columns (total 3 columns):\n",
            " #   Column          Non-Null Count   Dtype \n",
            "---  ------          --------------   ----- \n",
            " 0   Transaction ID  440098 non-null  int64 \n",
            " 1   Customer ID     440098 non-null  int64 \n",
            " 2   Payment_Mode    440098 non-null  object\n",
            "dtypes: int64(2), object(1)\n",
            "memory usage: 10.1+ MB\n",
            "None\n",
            "\n",
            "City Data:\n",
            "<class 'pandas.core.frame.DataFrame'>\n",
            "RangeIndex: 20 entries, 0 to 19\n",
            "Data columns (total 3 columns):\n",
            " #   Column      Non-Null Count  Dtype \n",
            "---  ------      --------------  ----- \n",
            " 0   City        20 non-null     object\n",
            " 1   Population  20 non-null     object\n",
            " 2   Users       20 non-null     object\n",
            "dtypes: object(3)\n",
            "memory usage: 608.0+ bytes\n",
            "None\n"
          ]
        }
      ]
    }
  ]
}